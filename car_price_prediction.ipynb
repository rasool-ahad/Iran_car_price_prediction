{
 "cells": [
  {
   "cell_type": "markdown",
   "id": "e1346c6e",
   "metadata": {},
   "source": [
    "#  Import packages"
   ]
  },
  {
   "cell_type": "code",
   "execution_count": 42,
   "id": "054fe6f2",
   "metadata": {},
   "outputs": [],
   "source": [
    "import numpy as np \n",
    "import pandas as pd\n",
    "import matplotlib.pyplot as plt\n",
    "from unidecode import unidecode"
   ]
  },
  {
   "cell_type": "markdown",
   "id": "3cab126e",
   "metadata": {},
   "source": [
    "# Get the data"
   ]
  },
  {
   "cell_type": "code",
   "execution_count": 43,
   "id": "fa1acbf2",
   "metadata": {},
   "outputs": [],
   "source": [
    "cars_df = pd.read_csv(\"cars.csv\")"
   ]
  },
  {
   "cell_type": "markdown",
   "id": "1a0e62ce",
   "metadata": {},
   "source": [
    "# Take quick look at data structure"
   ]
  },
  {
   "cell_type": "code",
   "execution_count": 44,
   "id": "dbab599f",
   "metadata": {},
   "outputs": [
    {
     "data": {
      "text/html": [
       "<div>\n",
       "<style scoped>\n",
       "    .dataframe tbody tr th:only-of-type {\n",
       "        vertical-align: middle;\n",
       "    }\n",
       "\n",
       "    .dataframe tbody tr th {\n",
       "        vertical-align: top;\n",
       "    }\n",
       "\n",
       "    .dataframe thead th {\n",
       "        text-align: right;\n",
       "    }\n",
       "</style>\n",
       "<table border=\"1\" class=\"dataframe\">\n",
       "  <thead>\n",
       "    <tr style=\"text-align: right;\">\n",
       "      <th></th>\n",
       "      <th>City</th>\n",
       "      <th>Model_Year</th>\n",
       "      <th>Color</th>\n",
       "      <th>Mileage</th>\n",
       "      <th>Brand</th>\n",
       "      <th>Body_Condition</th>\n",
       "      <th>Price</th>\n",
       "      <th>Engine_Condition</th>\n",
       "      <th>Chassis_Condition</th>\n",
       "      <th>Third_party_insurance</th>\n",
       "      <th>Gearbox</th>\n",
       "      <th>Selling_Method</th>\n",
       "      <th>Time</th>\n",
       "      <th>Location</th>\n",
       "    </tr>\n",
       "  </thead>\n",
       "  <tbody>\n",
       "    <tr>\n",
       "      <th>0</th>\n",
       "      <td>Tehran</td>\n",
       "      <td>۱۳۷۶</td>\n",
       "      <td>نقره ای</td>\n",
       "      <td>۵۳۲</td>\n",
       "      <td>نیسان، پاترول 4 در، 6 سیلندر</td>\n",
       "      <td>تمام رنگ</td>\n",
       "      <td>235000000.0</td>\n",
       "      <td>سالم</td>\n",
       "      <td>سالم و پلمپ</td>\n",
       "      <td>۶ ماه</td>\n",
       "      <td>دنده ای</td>\n",
       "      <td>نقدی</td>\n",
       "      <td>2022-03-26</td>\n",
       "      <td>آجودانیه</td>\n",
       "    </tr>\n",
       "    <tr>\n",
       "      <th>1</th>\n",
       "      <td>Tehran</td>\n",
       "      <td>۱۳۹۲</td>\n",
       "      <td>سفید</td>\n",
       "      <td>۱۵۰٬۰۰۰</td>\n",
       "      <td>CNG ،پیکان، وانت</td>\n",
       "      <td>خط و خش جزیی</td>\n",
       "      <td>110000000.0</td>\n",
       "      <td>NaN</td>\n",
       "      <td>NaN</td>\n",
       "      <td>NaN</td>\n",
       "      <td>NaN</td>\n",
       "      <td>NaN</td>\n",
       "      <td>2022-03-12</td>\n",
       "      <td>بلوار کشاورز</td>\n",
       "    </tr>\n",
       "    <tr>\n",
       "      <th>2</th>\n",
       "      <td>Tehran</td>\n",
       "      <td>۱۳۹۹</td>\n",
       "      <td>سفید</td>\n",
       "      <td>۰</td>\n",
       "      <td>SE ،131 ،پراید</td>\n",
       "      <td>سالم و بی خط و خش</td>\n",
       "      <td>NaN</td>\n",
       "      <td>NaN</td>\n",
       "      <td>سالم و پلمپ</td>\n",
       "      <td>۱۲ ماه</td>\n",
       "      <td>NaN</td>\n",
       "      <td>نقدی</td>\n",
       "      <td>2022-03-26</td>\n",
       "      <td>دولت آباد</td>\n",
       "    </tr>\n",
       "    <tr>\n",
       "      <th>3</th>\n",
       "      <td>Tehran</td>\n",
       "      <td>۱۳۹۶</td>\n",
       "      <td>سفید</td>\n",
       "      <td>۸۰٬۰۰۰</td>\n",
       "      <td>SE ،132 ،پراید</td>\n",
       "      <td>سالم و بی خط و خش</td>\n",
       "      <td>125500000.0</td>\n",
       "      <td>سالم</td>\n",
       "      <td>سالم و پلمپ</td>\n",
       "      <td>۶ ماه</td>\n",
       "      <td>دنده ای</td>\n",
       "      <td>نقدی</td>\n",
       "      <td>2022-03-26</td>\n",
       "      <td>پیروزی</td>\n",
       "    </tr>\n",
       "    <tr>\n",
       "      <th>4</th>\n",
       "      <td>Tehran</td>\n",
       "      <td>۱۳۹۳</td>\n",
       "      <td>نقره ای</td>\n",
       "      <td>۸۰٬۰۰۰</td>\n",
       "      <td>پژو، GLX ،405 بنزینی</td>\n",
       "      <td>سالم و بی خط و خش</td>\n",
       "      <td>187000000.0</td>\n",
       "      <td>سالم</td>\n",
       "      <td>سالم و پلمپ</td>\n",
       "      <td>۹ ماه</td>\n",
       "      <td>دنده ای</td>\n",
       "      <td>نقدی</td>\n",
       "      <td>2022-03-26</td>\n",
       "      <td>پیروزی</td>\n",
       "    </tr>\n",
       "  </tbody>\n",
       "</table>\n",
       "</div>"
      ],
      "text/plain": [
       "     City Model_Year    Color  Mileage                         Brand  \\\n",
       "0  Tehran       ۱۳۷۶  نقره ای      ۵۳۲  نیسان، پاترول 4 در، 6 سیلندر   \n",
       "1  Tehran       ۱۳۹۲     سفید  ۱۵۰٬۰۰۰              CNG ،پیکان، وانت   \n",
       "2  Tehran       ۱۳۹۹     سفید        ۰                SE ،131 ،پراید   \n",
       "3  Tehran       ۱۳۹۶     سفید   ۸۰٬۰۰۰                SE ،132 ،پراید   \n",
       "4  Tehran       ۱۳۹۳  نقره ای   ۸۰٬۰۰۰          پژو، GLX ،405 بنزینی   \n",
       "\n",
       "      Body_Condition        Price Engine_Condition Chassis_Condition  \\\n",
       "0           تمام رنگ  235000000.0             سالم       سالم و پلمپ   \n",
       "1       خط و خش جزیی  110000000.0              NaN               NaN   \n",
       "2  سالم و بی خط و خش          NaN              NaN       سالم و پلمپ   \n",
       "3  سالم و بی خط و خش  125500000.0             سالم       سالم و پلمپ   \n",
       "4  سالم و بی خط و خش  187000000.0             سالم       سالم و پلمپ   \n",
       "\n",
       "  Third_party_insurance  Gearbox Selling_Method        Time       Location  \n",
       "0                 ۶ ماه  دنده ای           نقدی  2022-03-26      آجودانیه   \n",
       "1                   NaN      NaN            NaN  2022-03-12  بلوار کشاورز   \n",
       "2                ۱۲ ماه      NaN           نقدی  2022-03-26     دولت آباد   \n",
       "3                 ۶ ماه  دنده ای           نقدی  2022-03-26        پیروزی   \n",
       "4                 ۹ ماه  دنده ای           نقدی  2022-03-26        پیروزی   "
      ]
     },
     "execution_count": 44,
     "metadata": {},
     "output_type": "execute_result"
    }
   ],
   "source": [
    "cars_df.head()"
   ]
  },
  {
   "cell_type": "code",
   "execution_count": 45,
   "id": "29fffae4",
   "metadata": {},
   "outputs": [
    {
     "data": {
      "text/html": [
       "<div>\n",
       "<style scoped>\n",
       "    .dataframe tbody tr th:only-of-type {\n",
       "        vertical-align: middle;\n",
       "    }\n",
       "\n",
       "    .dataframe tbody tr th {\n",
       "        vertical-align: top;\n",
       "    }\n",
       "\n",
       "    .dataframe thead th {\n",
       "        text-align: right;\n",
       "    }\n",
       "</style>\n",
       "<table border=\"1\" class=\"dataframe\">\n",
       "  <thead>\n",
       "    <tr style=\"text-align: right;\">\n",
       "      <th></th>\n",
       "      <th>City</th>\n",
       "      <th>Model_Year</th>\n",
       "      <th>Color</th>\n",
       "      <th>Mileage</th>\n",
       "      <th>Brand</th>\n",
       "      <th>Body_Condition</th>\n",
       "      <th>Price</th>\n",
       "      <th>Engine_Condition</th>\n",
       "      <th>Chassis_Condition</th>\n",
       "      <th>Third_party_insurance</th>\n",
       "      <th>Gearbox</th>\n",
       "      <th>Selling_Method</th>\n",
       "      <th>Time</th>\n",
       "      <th>Location</th>\n",
       "    </tr>\n",
       "  </thead>\n",
       "  <tbody>\n",
       "    <tr>\n",
       "      <th>56397</th>\n",
       "      <td>Shiraz</td>\n",
       "      <td>۱۳۸۳</td>\n",
       "      <td>یشمی</td>\n",
       "      <td>۱۰۰٬۰۰۰</td>\n",
       "      <td>پیکان، بنزینی</td>\n",
       "      <td>صافکاری بی رنگ، در ۱ ناحیه</td>\n",
       "      <td>75000000.0</td>\n",
       "      <td>سالم</td>\n",
       "      <td>سالم و پلمپ</td>\n",
       "      <td>۱۱ ماه</td>\n",
       "      <td>دنده ای</td>\n",
       "      <td>نقدی</td>\n",
       "      <td>2022-03-26</td>\n",
       "      <td>ابونصر</td>\n",
       "    </tr>\n",
       "    <tr>\n",
       "      <th>56398</th>\n",
       "      <td>Shiraz</td>\n",
       "      <td>۲۰۱۲</td>\n",
       "      <td>سفید</td>\n",
       "      <td>۱۷۲٬۰۰۰</td>\n",
       "      <td>سانگ یانگ، رکستون، ساده</td>\n",
       "      <td>خط و خش جزیی</td>\n",
       "      <td>930000000.0</td>\n",
       "      <td>سالم</td>\n",
       "      <td>سالم و پلمپ</td>\n",
       "      <td>۳ ماه</td>\n",
       "      <td>اتوماتیک</td>\n",
       "      <td>نقدی</td>\n",
       "      <td>2022-03-26</td>\n",
       "      <td>گلدشت حافظ</td>\n",
       "    </tr>\n",
       "    <tr>\n",
       "      <th>56399</th>\n",
       "      <td>Shiraz</td>\n",
       "      <td>۲۰۱۳</td>\n",
       "      <td>موکا</td>\n",
       "      <td>۱۳۵٬۰۰۰</td>\n",
       "      <td>جیلی، Emgrand 7، دنده ای</td>\n",
       "      <td>خط و خش جزیی</td>\n",
       "      <td>280000000.0</td>\n",
       "      <td>سالم</td>\n",
       "      <td>سالم و پلمپ</td>\n",
       "      <td>۷ ماه</td>\n",
       "      <td>دنده ای</td>\n",
       "      <td>نقدی</td>\n",
       "      <td>2022-03-26</td>\n",
       "      <td>شریف آباد</td>\n",
       "    </tr>\n",
       "    <tr>\n",
       "      <th>56400</th>\n",
       "      <td>Shiraz</td>\n",
       "      <td>۱۳۸۳</td>\n",
       "      <td>سفید</td>\n",
       "      <td>۳۹۰٬۰۰۰</td>\n",
       "      <td>پیکان، بنزینی</td>\n",
       "      <td>دوررنگ</td>\n",
       "      <td>37000000.0</td>\n",
       "      <td>سالم</td>\n",
       "      <td>NaN</td>\n",
       "      <td>۶ ماه</td>\n",
       "      <td>دنده ای</td>\n",
       "      <td>نقدی</td>\n",
       "      <td>2022-03-23</td>\n",
       "      <td>پانصد دستگاه (بلوار رحمت)</td>\n",
       "    </tr>\n",
       "    <tr>\n",
       "      <th>56401</th>\n",
       "      <td>Shiraz</td>\n",
       "      <td>۱۴۰۰</td>\n",
       "      <td>نقره ای</td>\n",
       "      <td>۰</td>\n",
       "      <td>2000cc مزدا، وانت، کارا تک کابین</td>\n",
       "      <td>سالم و بی خط و خش</td>\n",
       "      <td>271500000.0</td>\n",
       "      <td>سالم</td>\n",
       "      <td>سالم و پلمپ</td>\n",
       "      <td>۱۲ ماه</td>\n",
       "      <td>دنده ای</td>\n",
       "      <td>نقدی</td>\n",
       "      <td>2022-03-05</td>\n",
       "      <td>فرهنگ شهر</td>\n",
       "    </tr>\n",
       "  </tbody>\n",
       "</table>\n",
       "</div>"
      ],
      "text/plain": [
       "         City Model_Year    Color  Mileage                             Brand  \\\n",
       "56397  Shiraz       ۱۳۸۳     یشمی  ۱۰۰٬۰۰۰                     پیکان، بنزینی   \n",
       "56398  Shiraz       ۲۰۱۲     سفید  ۱۷۲٬۰۰۰           سانگ یانگ، رکستون، ساده   \n",
       "56399  Shiraz       ۲۰۱۳     موکا  ۱۳۵٬۰۰۰          جیلی، Emgrand 7، دنده ای   \n",
       "56400  Shiraz       ۱۳۸۳     سفید  ۳۹۰٬۰۰۰                     پیکان، بنزینی   \n",
       "56401  Shiraz       ۱۴۰۰  نقره ای        ۰  2000cc مزدا، وانت، کارا تک کابین   \n",
       "\n",
       "                   Body_Condition        Price Engine_Condition  \\\n",
       "56397  صافکاری بی رنگ، در ۱ ناحیه   75000000.0             سالم   \n",
       "56398                خط و خش جزیی  930000000.0             سالم   \n",
       "56399                خط و خش جزیی  280000000.0             سالم   \n",
       "56400                      دوررنگ   37000000.0             سالم   \n",
       "56401           سالم و بی خط و خش  271500000.0             سالم   \n",
       "\n",
       "      Chassis_Condition Third_party_insurance   Gearbox Selling_Method  \\\n",
       "56397       سالم و پلمپ                ۱۱ ماه   دنده ای           نقدی   \n",
       "56398       سالم و پلمپ                 ۳ ماه  اتوماتیک           نقدی   \n",
       "56399       سالم و پلمپ                 ۷ ماه   دنده ای           نقدی   \n",
       "56400               NaN                 ۶ ماه   دنده ای           نقدی   \n",
       "56401       سالم و پلمپ                ۱۲ ماه   دنده ای           نقدی   \n",
       "\n",
       "             Time                    Location  \n",
       "56397  2022-03-26                     ابونصر   \n",
       "56398  2022-03-26                 گلدشت حافظ   \n",
       "56399  2022-03-26                  شریف آباد   \n",
       "56400  2022-03-23  پانصد دستگاه (بلوار رحمت)   \n",
       "56401  2022-03-05                  فرهنگ شهر   "
      ]
     },
     "execution_count": 45,
     "metadata": {},
     "output_type": "execute_result"
    }
   ],
   "source": [
    "cars_df.tail()"
   ]
  },
  {
   "cell_type": "code",
   "execution_count": 46,
   "id": "f83f61b8",
   "metadata": {},
   "outputs": [
    {
     "name": "stdout",
     "output_type": "stream",
     "text": [
      "<class 'pandas.core.frame.DataFrame'>\n",
      "RangeIndex: 56402 entries, 0 to 56401\n",
      "Data columns (total 14 columns):\n",
      " #   Column                 Non-Null Count  Dtype  \n",
      "---  ------                 --------------  -----  \n",
      " 0   City                   56402 non-null  object \n",
      " 1   Model_Year             56402 non-null  object \n",
      " 2   Color                  56399 non-null  object \n",
      " 3   Mileage                56402 non-null  object \n",
      " 4   Brand                  56402 non-null  object \n",
      " 5   Body_Condition         54955 non-null  object \n",
      " 6   Price                  43306 non-null  float64\n",
      " 7   Engine_Condition       53853 non-null  object \n",
      " 8   Chassis_Condition      46407 non-null  object \n",
      " 9   Third_party_insurance  52407 non-null  object \n",
      " 10  Gearbox                52954 non-null  object \n",
      " 11  Selling_Method         52637 non-null  object \n",
      " 12  Time                   56402 non-null  object \n",
      " 13  Location               56402 non-null  object \n",
      "dtypes: float64(1), object(13)\n",
      "memory usage: 6.0+ MB\n"
     ]
    }
   ],
   "source": [
    "cars_df.info()"
   ]
  },
  {
   "cell_type": "markdown",
   "id": "1de97be0",
   "metadata": {},
   "source": [
    "### make integer string persion numbers"
   ]
  },
  {
   "cell_type": "code",
   "execution_count": 76,
   "id": "53489e46",
   "metadata": {},
   "outputs": [],
   "source": [
    "\n",
    "cars_df = pd.read_csv(\"cars.csv\")\n",
    "cars_df[\"Model_Year\"] = cars_df[\"Model_Year\"].apply(unidecode)\n",
    "cars_df = cars_df.loc[cars_df[\"Model_Year\"].str.startswith(\"13\") | cars_df[\"Model_Year\"].str.startswith(\"14\") ]\n",
    "cars_df[\"Model_Year\"] = cars_df[\"Model_Year\"].apply(int)\n",
    "\n",
    "cars_df[\"Mileage\"] = cars_df[\"Mileage\"].str.replace(\"٬\" , \"\")\n",
    "cars_df[\"Mileage\"] = cars_df[\"Mileage\"].apply(int)\n",
    "\n"
   ]
  },
  {
   "cell_type": "code",
   "execution_count": 78,
   "id": "16ac405e",
   "metadata": {
    "scrolled": true
   },
   "outputs": [
    {
     "name": "stdout",
     "output_type": "stream",
     "text": [
      "<class 'pandas.core.frame.DataFrame'>\n",
      "Int64Index: 51137 entries, 0 to 56401\n",
      "Data columns (total 14 columns):\n",
      " #   Column                 Non-Null Count  Dtype  \n",
      "---  ------                 --------------  -----  \n",
      " 0   City                   51137 non-null  object \n",
      " 1   Model_Year             51137 non-null  int64  \n",
      " 2   Color                  51134 non-null  object \n",
      " 3   Mileage                51137 non-null  int64  \n",
      " 4   Brand                  51137 non-null  object \n",
      " 5   Body_Condition         49775 non-null  object \n",
      " 6   Price                  38888 non-null  float64\n",
      " 7   Engine_Condition       48808 non-null  object \n",
      " 8   Chassis_Condition      41612 non-null  object \n",
      " 9   Third_party_insurance  47625 non-null  object \n",
      " 10  Gearbox                47953 non-null  object \n",
      " 11  Selling_Method         47732 non-null  object \n",
      " 12  Time                   51137 non-null  object \n",
      " 13  Location               51137 non-null  object \n",
      "dtypes: float64(1), int64(2), object(11)\n",
      "memory usage: 5.9+ MB\n"
     ]
    }
   ],
   "source": [
    "cars_df.info()"
   ]
  },
  {
   "cell_type": "code",
   "execution_count": 81,
   "id": "bc9f7deb",
   "metadata": {
    "scrolled": true
   },
   "outputs": [
    {
     "data": {
      "text/plain": [
       "array([[<AxesSubplot:title={'center':'Model_Year'}>,\n",
       "        <AxesSubplot:title={'center':'Mileage'}>],\n",
       "       [<AxesSubplot:title={'center':'Price'}>, <AxesSubplot:>]],\n",
       "      dtype=object)"
      ]
     },
     "execution_count": 81,
     "metadata": {},
     "output_type": "execute_result"
    },
    {
     "data": {
      "image/png": "[encoded data removed]",
      "text/plain": [
       "<Figure size 1440x1080 with 4 Axes>"
      ]
     },
     "metadata": {
      "needs_background": "light"
     },
     "output_type": "display_data"
    }
   ],
   "source": [
    "import matplotlib.pyplot as plt\n",
    "cars_df.hist(bins=20, figsize=(20,15))"
   ]
  },
  {
   "cell_type": "code",
   "execution_count": null,
   "id": "41f12ed0",
   "metadata": {},
   "outputs": [],
   "source": []
  }
 ],
 "metadata": {
  "kernelspec": {
   "display_name": "Python 3 (ipykernel)",
   "language": "python",
   "name": "python3"
  },
  "language_info": {
   "codemirror_mode": {
    "name": "ipython",
    "version": 3
   },
   "file_extension": ".py",
   "mimetype": "text/x-python",
   "name": "python",
   "nbconvert_exporter": "python",
   "pygments_lexer": "ipython3",
   "version": "3.9.12"
  }
 },
 "nbformat": 4,
 "nbformat_minor": 5
}
