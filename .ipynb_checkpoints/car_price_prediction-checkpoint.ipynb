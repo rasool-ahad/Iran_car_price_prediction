{
 "cells": [
  {
   "cell_type": "markdown",
   "id": "dccf0b3f",
   "metadata": {},
   "source": [
    "#  Import packages"
   ]
  },
  {
   "cell_type": "code",
   "execution_count": 11,
   "id": "b01def52",
   "metadata": {},
   "outputs": [],
   "source": [
    "import numpy as np \n",
    "import pandas as pd\n",
    "import matplotlib.pyplot as plt"
   ]
  },
  {
   "cell_type": "markdown",
   "id": "1dd9f734",
   "metadata": {},
   "source": [
    "# Get the data"
   ]
  },
  {
   "cell_type": "code",
   "execution_count": 12,
   "id": "cc29fea2",
   "metadata": {},
   "outputs": [],
   "source": [
    "cars_df = pd.read_csv(\"cars.csv\")"
   ]
  },
  {
   "cell_type": "markdown",
   "id": "b4f5423c",
   "metadata": {},
   "source": [
    "# Take quick look at data structure"
   ]
  },
  {
   "cell_type": "code",
   "execution_count": 15,
   "id": "faf372a3",
   "metadata": {},
   "outputs": [
    {
     "data": {
      "text/html": [
       "<div>\n",
       "<style scoped>\n",
       "    .dataframe tbody tr th:only-of-type {\n",
       "        vertical-align: middle;\n",
       "    }\n",
       "\n",
       "    .dataframe tbody tr th {\n",
       "        vertical-align: top;\n",
       "    }\n",
       "\n",
       "    .dataframe thead th {\n",
       "        text-align: right;\n",
       "    }\n",
       "</style>\n",
       "<table border=\"1\" class=\"dataframe\">\n",
       "  <thead>\n",
       "    <tr style=\"text-align: right;\">\n",
       "      <th></th>\n",
       "      <th>City</th>\n",
       "      <th>Model_Year</th>\n",
       "      <th>Color</th>\n",
       "      <th>Mileage</th>\n",
       "      <th>Brand</th>\n",
       "      <th>Body_Condition</th>\n",
       "      <th>Price</th>\n",
       "      <th>Engine_Condition</th>\n",
       "      <th>Chassis_Condition</th>\n",
       "      <th>Third_party_insurance</th>\n",
       "      <th>Gearbox</th>\n",
       "      <th>Selling_Method</th>\n",
       "      <th>Time</th>\n",
       "      <th>Location</th>\n",
       "    </tr>\n",
       "  </thead>\n",
       "  <tbody>\n",
       "    <tr>\n",
       "      <th>0</th>\n",
       "      <td>Tehran</td>\n",
       "      <td>۱۳۷۶</td>\n",
       "      <td>نقره ای</td>\n",
       "      <td>۵۳۲</td>\n",
       "      <td>نیسان، پاترول 4 در، 6 سیلندر</td>\n",
       "      <td>تمام رنگ</td>\n",
       "      <td>235000000.0</td>\n",
       "      <td>سالم</td>\n",
       "      <td>سالم و پلمپ</td>\n",
       "      <td>۶ ماه</td>\n",
       "      <td>دنده ای</td>\n",
       "      <td>نقدی</td>\n",
       "      <td>2022-03-26</td>\n",
       "      <td>آجودانیه</td>\n",
       "    </tr>\n",
       "    <tr>\n",
       "      <th>1</th>\n",
       "      <td>Tehran</td>\n",
       "      <td>۱۳۹۲</td>\n",
       "      <td>سفید</td>\n",
       "      <td>۱۵۰٬۰۰۰</td>\n",
       "      <td>CNG ،پیکان، وانت</td>\n",
       "      <td>خط و خش جزیی</td>\n",
       "      <td>110000000.0</td>\n",
       "      <td>NaN</td>\n",
       "      <td>NaN</td>\n",
       "      <td>NaN</td>\n",
       "      <td>NaN</td>\n",
       "      <td>NaN</td>\n",
       "      <td>2022-03-12</td>\n",
       "      <td>بلوار کشاورز</td>\n",
       "    </tr>\n",
       "    <tr>\n",
       "      <th>2</th>\n",
       "      <td>Tehran</td>\n",
       "      <td>۱۳۹۹</td>\n",
       "      <td>سفید</td>\n",
       "      <td>۰</td>\n",
       "      <td>SE ،131 ،پراید</td>\n",
       "      <td>سالم و بی خط و خش</td>\n",
       "      <td>NaN</td>\n",
       "      <td>NaN</td>\n",
       "      <td>سالم و پلمپ</td>\n",
       "      <td>۱۲ ماه</td>\n",
       "      <td>NaN</td>\n",
       "      <td>نقدی</td>\n",
       "      <td>2022-03-26</td>\n",
       "      <td>دولت آباد</td>\n",
       "    </tr>\n",
       "    <tr>\n",
       "      <th>3</th>\n",
       "      <td>Tehran</td>\n",
       "      <td>۱۳۹۶</td>\n",
       "      <td>سفید</td>\n",
       "      <td>۸۰٬۰۰۰</td>\n",
       "      <td>SE ،132 ،پراید</td>\n",
       "      <td>سالم و بی خط و خش</td>\n",
       "      <td>125500000.0</td>\n",
       "      <td>سالم</td>\n",
       "      <td>سالم و پلمپ</td>\n",
       "      <td>۶ ماه</td>\n",
       "      <td>دنده ای</td>\n",
       "      <td>نقدی</td>\n",
       "      <td>2022-03-26</td>\n",
       "      <td>پیروزی</td>\n",
       "    </tr>\n",
       "    <tr>\n",
       "      <th>4</th>\n",
       "      <td>Tehran</td>\n",
       "      <td>۱۳۹۳</td>\n",
       "      <td>نقره ای</td>\n",
       "      <td>۸۰٬۰۰۰</td>\n",
       "      <td>پژو، GLX ،405 بنزینی</td>\n",
       "      <td>سالم و بی خط و خش</td>\n",
       "      <td>187000000.0</td>\n",
       "      <td>سالم</td>\n",
       "      <td>سالم و پلمپ</td>\n",
       "      <td>۹ ماه</td>\n",
       "      <td>دنده ای</td>\n",
       "      <td>نقدی</td>\n",
       "      <td>2022-03-26</td>\n",
       "      <td>پیروزی</td>\n",
       "    </tr>\n",
       "  </tbody>\n",
       "</table>\n",
       "</div>"
      ],
      "text/plain": [
       "     City Model_Year    Color  Mileage                         Brand  \\\n",
       "0  Tehran       ۱۳۷۶  نقره ای      ۵۳۲  نیسان، پاترول 4 در، 6 سیلندر   \n",
       "1  Tehran       ۱۳۹۲     سفید  ۱۵۰٬۰۰۰              CNG ،پیکان، وانت   \n",
       "2  Tehran       ۱۳۹۹     سفید        ۰                SE ،131 ،پراید   \n",
       "3  Tehran       ۱۳۹۶     سفید   ۸۰٬۰۰۰                SE ،132 ،پراید   \n",
       "4  Tehran       ۱۳۹۳  نقره ای   ۸۰٬۰۰۰          پژو، GLX ،405 بنزینی   \n",
       "\n",
       "      Body_Condition        Price Engine_Condition Chassis_Condition  \\\n",
       "0           تمام رنگ  235000000.0             سالم       سالم و پلمپ   \n",
       "1       خط و خش جزیی  110000000.0              NaN               NaN   \n",
       "2  سالم و بی خط و خش          NaN              NaN       سالم و پلمپ   \n",
       "3  سالم و بی خط و خش  125500000.0             سالم       سالم و پلمپ   \n",
       "4  سالم و بی خط و خش  187000000.0             سالم       سالم و پلمپ   \n",
       "\n",
       "  Third_party_insurance  Gearbox Selling_Method        Time       Location  \n",
       "0                 ۶ ماه  دنده ای           نقدی  2022-03-26      آجودانیه   \n",
       "1                   NaN      NaN            NaN  2022-03-12  بلوار کشاورز   \n",
       "2                ۱۲ ماه      NaN           نقدی  2022-03-26     دولت آباد   \n",
       "3                 ۶ ماه  دنده ای           نقدی  2022-03-26        پیروزی   \n",
       "4                 ۹ ماه  دنده ای           نقدی  2022-03-26        پیروزی   "
      ]
     },
     "execution_count": 15,
     "metadata": {},
     "output_type": "execute_result"
    }
   ],
   "source": [
    "cars_df.head()"
   ]
  },
  {
   "cell_type": "raw",
   "id": "097d230b",
   "metadata": {},
   "source": []
  },
  {
   "cell_type": "code",
   "execution_count": null,
   "id": "6b8a1989",
   "metadata": {},
   "outputs": [],
   "source": []
  }
 ],
 "metadata": {
  "kernelspec": {
   "display_name": "Python 3 (ipykernel)",
   "language": "python",
   "name": "python3"
  },
  "language_info": {
   "codemirror_mode": {
    "name": "ipython",
    "version": 3
   },
   "file_extension": ".py",
   "mimetype": "text/x-python",
   "name": "python",
   "nbconvert_exporter": "python",
   "pygments_lexer": "ipython3",
   "version": "3.9.12"
  }
 },
 "nbformat": 4,
 "nbformat_minor": 5
}
